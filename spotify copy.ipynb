{
 "cells": [
  {
   "cell_type": "markdown",
   "id": "d92d083f",
   "metadata": {},
   "source": [
    "### retrieve libraries & authenticate"
   ]
  },
  {
   "cell_type": "markdown",
   "id": "3ee2d0c0",
   "metadata": {},
   "source": [
    "#### libraries & top vars"
   ]
  },
  {
   "cell_type": "code",
   "execution_count": 1,
   "id": "68d168b3",
   "metadata": {},
   "outputs": [],
   "source": [
    "import spotipy\n",
    "import os\n",
    "import config\n",
    "import spotipy.util as util\n",
    "from spotipy.oauth2 import SpotifyClientCredentials\n",
    "import spotipy.oauth2 as oauth2\n",
    "import random\n",
    "import string\n",
    "\n",
    "inBetaID = config.beta_id\n",
    "\n",
    "# the queue playlist\n",
    "# 9/10/2023: this has been reqplaced with the playlist id of the queued playlist \n",
    "# also, for future reference, the correct id that should be parsed out of the shared playlist link is the set of numbers right after the playlist/ in the url\n",
    "pq_id = config.pq_id\n",
    "\n"
   ]
  },
  {
   "cell_type": "markdown",
   "id": "3064bb34",
   "metadata": {},
   "source": [
    "#### auth"
   ]
  },
  {
   "cell_type": "code",
   "execution_count": 4,
   "id": "a52d5cf3",
   "metadata": {},
   "outputs": [],
   "source": [
    "#todo: don't hard code stuff like this\n",
    "clientID = 'e7392e632c3745ea9d29acd036bf03f9'\n",
    "clientSecret = 'bb0d7d5581da42f98ecc610c82803782'\n",
    "redirectURI = 'http://localhost:8889/callback'\n",
    "user_id = config.user_id\n",
    "scopes = [\n",
    "    'playlist-read-private',\n",
    "    'playlist-read-collaborative',\n",
    "    'playlist-modify-private',\n",
    "    'playlist-modify-public',\n",
    "    'user-follow-modify',\n",
    "    'user-follow-read',\n",
    "    'user-read-playback-position',\n",
    "    'user-top-read',\n",
    "    'user-read-recently-played',\n",
    "    'user-library-modify',\n",
    "    'user-library-read',\n",
    "]\n",
    "\n",
    "scope = ' '.join(scopes)\n",
    "token = util.prompt_for_user_token(\n",
    "    username='Larralapid@gmail.com',\n",
    "    scope=scope,\n",
    "    client_id=clientID,\n",
    "    client_secret=clientSecret,\n",
    "    redirect_uri=redirectURI\n",
    ")\n",
    "\n",
    "# create a Spotify object\n",
    "sp = spotipy.Spotify(auth=token)"
   ]
  },
  {
   "cell_type": "markdown",
   "id": "02b55e73",
   "metadata": {},
   "source": [
    "#### functions"
   ]
  },
  {
   "cell_type": "code",
   "execution_count": 5,
   "id": "2fb2e343",
   "metadata": {},
   "outputs": [],
   "source": [
    "def get_liked_songs(sp):\n",
    "    liked_songs_ids = []    \n",
    "    liked_songs = sp.current_user_saved_tracks()\n",
    "    \n",
    "    #keep getting liked songs until we have all of them and update the offset parameter\n",
    "    while liked_songs['next']:\n",
    "        liked_songs = sp.current_user_saved_tracks(offset=len(liked_songs_ids))\n",
    "        for item in liked_songs['items']:\n",
    "            track = item['track']\n",
    "            liked_songs_ids.append(track['id'])\n",
    "\n",
    "    return liked_songs_ids\n",
    "def get_in_beta(sp,inBetaID):\n",
    "    in_beta_ids = []\n",
    "    # get tracks for playlist id 37PJwtSi9QJ6DDT5XnEPXZ\n",
    "    in_beta = sp.playlist_items(inBetaID)\n",
    "    \n",
    "    #keep getting in beta songs until we have all of them and update the offset parameter\n",
    "    while in_beta['next']:\n",
    "        #TODO: check if the item is still valid in spotify\n",
    "        in_beta = sp.playlist_items(inBetaID, offset=len(in_beta_ids))\n",
    "        for item in in_beta['items']:\n",
    "            if str(item) == \"None\" or str(item) == \"\" or item == None:\n",
    "                # remove the track from the in_beta playlist\n",
    "                sp.playlist_remove_all_occurrences_of_items(playlist_id=inBetaID, items=[item])\n",
    "                print(\"Removed None or empty string from In Beta\")\n",
    "            else:\n",
    "                track = item['track']\n",
    "                in_beta_ids.append(track['id'])\n",
    "    return in_beta_ids\n",
    "def get_inbeta_inliked(sp,liked_song_ids,in_beta_ids):\n",
    "    print('LIKED SONGS: '+ str(liked_song_ids))\n",
    "    liked_song_ids = set(liked_song_ids)\n",
    "    # find all tracks in in_beta that are also in liked_songs and add them to a list\n",
    "    in_beta_and_liked = []\n",
    "    for track_id in in_beta_ids:\n",
    "        if track_id in liked_songs_ids:\n",
    "            in_beta_and_liked.append(track_id)\n",
    "\n",
    "    return in_beta_and_liked\n",
    "def create_new_playlist(sp, playlist_name):\n",
    "    user_id = sp.me()['id']\n",
    "    playlist = sp.user_playlist_create(user=str(user_id), name=playlist_name, public=False)\n",
    "    return playlist['id']\n",
    "def remove_cross_dupes(sp,in_beta_and_liked,inBetaID):\n",
    "    # remove all tracks in in_beta_and_liked from \"in beta\" playlist\n",
    "    items_to_remove = in_beta_and_liked.copy()\n",
    "    removed_items = []\n",
    "    while items_to_remove:\n",
    "        removed = sp.playlist_remove_all_occurrences_of_items(playlist_id=inBetaID, items=items_to_remove[:100])\n",
    "        removed_items.extend(removed['snapshot_id'])\n",
    "        items_to_remove = items_to_remove[100:]\n",
    "\n",
    "    # print the updated total number of tracks in the \"in beta\" playlist\n",
    "    in_beta = sp.playlist_items(inBetaID)\n",
    "    \n",
    "    return removed_items\n",
    "def beta_removals(sp, beta_chosen, inBetaID):\n",
    "    print('INITIATING BETA PLAYLIST REMOVALS')\n",
    "    # print the count of tracks in the \"in beta\" playlist\n",
    "    in_beta = sp.playlist_items(inBetaID)\n",
    "    print(\"Total In Beta Before removals:\", in_beta['total'])\n",
    "\n",
    "    # for every item in beta_chosen, remove it from the \"in beta\" playlist\n",
    "    for item in beta_chosen:\n",
    "        sp.playlist_remove_all_occurrences_of_items(playlist_id=inBetaID, items=[item])\n",
    "\n",
    "    # print the updated count of tracks in the \"in beta\" playlist\n",
    "    in_beta = sp.playlist_items(inBetaID)\n",
    "    print(\"Total In Beta after removals:\", in_beta['total'])\n",
    "    print('BETA PLAYLIST REMOVALS COMPLETE')\n",
    "    return in_beta['total']\n",
    "def queue_it(sp,pq_id,inBetaID):\n",
    "    # shuffle the liked_songs_ids list\n",
    "    liked_songs_ids = get_liked_songs(sp)\n",
    "    random.shuffle(liked_songs_ids)\n",
    "\n",
    "    new_queue = []\n",
    "    beta_chosen = get_in_beta(sp,inBetaID)\n",
    "    beta_chosen = [track for track in beta_chosen if track is not None]\n",
    "\n",
    "    #for each item in shuffled_liked, add it to the new_queue list and choose a random track from in_beta_ids to add to the new_queue and beta_chosen lists, then remove that track from in_beta_ids\n",
    "    for item in liked_songs_ids[:]:\n",
    "        if str(item) == \"None\" or str(item) == \"\":\n",
    "            continue\n",
    "        else:\n",
    "            new_queue.append(\"spotify:track:\"+item)\n",
    "            beta_track = random.choice(beta_chosen)\n",
    "            new_queue.append(\"spotify:track:\"+beta_track)\n",
    "            beta_chosen.remove(beta_track)\n",
    "\n",
    "    # for each item in new_queue_uris, add it to the playlist\n",
    "    for item in new_queue:\n",
    "        sp.playlist_add_items(playlist_id=pq_id, items=[item])\n",
    "    print('QUEUE PLAYLIST POPULATED')\n",
    "\n",
    "    return beta_removals(sp,beta_chosen,inBetaID)\n"
   ]
  },
  {
   "cell_type": "code",
   "execution_count": null,
   "id": "43742760",
   "metadata": {},
   "outputs": [],
   "source": [
    "# for every track that is in pq_id playlist and also in inBetaID, remove from in beta playlist \n",
    "def removeTracksFromInBetaPlaylist(sp,pq_id, inBetaID):\n",
    " # Fetch all tracks from inBetaID playlist\n",
    "    inBeta_track_ids = set()\n",
    "    offset = 0\n",
    "    while True:\n",
    "        inBeta_tracks = sp.playlist_items(inBetaID, offset=offset)\n",
    "        inBeta_track_ids.update({track['track']['id'] for track in inBeta_tracks['items']})\n",
    "        \n",
    "        if not inBeta_tracks['next']:\n",
    "            break\n",
    "        offset += len(inBeta_tracks['items'])\n",
    "\n",
    "    print(\"count of in beta playlist tracks: \", len(inBeta_track_ids), \"\\n\")\n",
    "    \n",
    "    # Check tracks from pq_id against inBeta_track_ids\n",
    "    to_remove = []\n",
    "    offset = 0\n",
    "    while True:\n",
    "        pq_tracks = sp.playlist_items(pq_id, offset=offset)\n",
    "        \n",
    "        for item in pq_tracks['items']:\n",
    "            if item['track']['id'] in inBeta_track_ids:\n",
    "                to_remove.append(item['track']['id'])\n",
    "\n",
    "        if not pq_tracks['next']:\n",
    "            break\n",
    "        offset += len(pq_tracks['items'])\n",
    "\n",
    "    # Batch remove tracks from inBetaID playlist\n",
    "    for i in range(0, len(to_remove), 100):\n",
    "        sp.playlist_remove_all_occurrences_of_items(inBetaID, to_remove[i:i+100])\n",
    "    \n",
    "    return print(\"removed \", len(to_remove), \" tracks from in beta playlist\")\n",
    "\n",
    "\n"
   ]
  },
  {
   "cell_type": "code",
   "execution_count": null,
   "id": "d9d7cd7b",
   "metadata": {},
   "outputs": [],
   "source": [
    "removeTracksFromInBetaPlaylist(sp,pq_id,inBetaID)"
   ]
  },
  {
   "cell_type": "markdown",
   "id": "bdc95cbf",
   "metadata": {},
   "source": [
    "### exe"
   ]
  },
  {
   "cell_type": "markdown",
   "id": "d38b46ce",
   "metadata": {},
   "source": [
    "#### mandatory executions "
   ]
  },
  {
   "cell_type": "code",
   "execution_count": 6,
   "id": "1c9228f6",
   "metadata": {},
   "outputs": [
    {
     "name": "stdout",
     "output_type": "stream",
     "text": [
      "QUEUE PLAYLIST POPULATED\n",
      "INITIATING BETA PLAYLIST REMOVALS\n",
      "Total In Beta Before removals: 4735\n",
      "Total In Beta after removals: 1690\n",
      "BETA PLAYLIST REMOVALS COMPLETE\n"
     ]
    },
    {
     "data": {
      "text/plain": [
       "1690"
      ]
     },
     "execution_count": 6,
     "metadata": {},
     "output_type": "execute_result"
    }
   ],
   "source": [
    "queue_it(sp,pq_id,inBetaID)"
   ]
  },
  {
   "cell_type": "markdown",
   "id": "0d6d49d0",
   "metadata": {},
   "source": [
    "#### optional executions "
   ]
  },
  {
   "cell_type": "code",
   "execution_count": null,
   "id": "717242b9",
   "metadata": {},
   "outputs": [],
   "source": [
    "liked_songs_ids = get_liked_songs(sp)\n",
    "print(liked_songs_ids)"
   ]
  },
  {
   "cell_type": "code",
   "execution_count": null,
   "id": "86e8e328",
   "metadata": {},
   "outputs": [],
   "source": [
    "in_beta_ids = get_in_beta(sp,inBetaID)\n",
    "print(in_beta_ids)"
   ]
  },
  {
   "cell_type": "code",
   "execution_count": null,
   "id": "1d0e589b",
   "metadata": {},
   "outputs": [],
   "source": [
    "in_beta_and_liked = get_inbeta_inliked(sp,liked_songs_ids,in_beta_ids)\n",
    "print(in_beta_and_liked)"
   ]
  },
  {
   "cell_type": "code",
   "execution_count": null,
   "id": "bd8ac187",
   "metadata": {},
   "outputs": [],
   "source": [
    "# remove the tracks that exist in beta and in liked \n",
    "remove_cross_dupes(sp,in_beta_and_liked,inBetaID)"
   ]
  }
 ],
 "metadata": {
  "kernelspec": {
   "display_name": "Python 3 (ipykernel)",
   "language": "python",
   "name": "python3"
  },
  "language_info": {
   "codemirror_mode": {
    "name": "ipython",
    "version": 3
   },
   "file_extension": ".py",
   "mimetype": "text/x-python",
   "name": "python",
   "nbconvert_exporter": "python",
   "pygments_lexer": "ipython3",
   "version": "3.11.6"
  }
 },
 "nbformat": 4,
 "nbformat_minor": 5
}
