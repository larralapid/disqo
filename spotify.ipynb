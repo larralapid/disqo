{
 "cells": [
  {
   "cell_type": "code",
   "execution_count": 1,
   "id": "a55a0da2",
   "metadata": {},
   "outputs": [
    {
     "name": "stdout",
     "output_type": "stream",
     "text": [
      "collecting in beta songs\n"
     ]
    }
   ],
   "source": [
    "import sys\n",
    "sys.path.append('./lib')\n",
    "\n",
    "# import Spot.py\n",
    "from Spot import Spot\n",
    "\n",
    "spot = Spot()\n",
    "\n",
    "# spot.exe()\n",
    "spot.delete_qDupesFromBeta()"
   ]
  },
  {
   "cell_type": "code",
   "execution_count": 2,
   "id": "a8334298",
   "metadata": {},
   "outputs": [
    {
     "name": "stdout",
     "output_type": "stream",
     "text": [
      "Deleting 0 queued songs from beta playlist\n"
     ]
    }
   ],
   "source": []
  }
 ],
 "metadata": {
  "kernelspec": {
   "display_name": "Python 3 (ipykernel)",
   "language": "python",
   "name": "python3"
  },
  "language_info": {
   "codemirror_mode": {
    "name": "ipython",
    "version": 3
   },
   "file_extension": ".py",
   "mimetype": "text/x-python",
   "name": "python",
   "nbconvert_exporter": "python",
   "pygments_lexer": "ipython3",
   "version": "3.11.6"
  }
 },
 "nbformat": 4,
 "nbformat_minor": 5
}
