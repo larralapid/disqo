{
 "cells": [
  {
   "cell_type": "code",
   "execution_count": null,
   "id": "a55a0da2",
   "metadata": {},
   "outputs": [],
   "source": [
    "# import Spot.py\n",
    "from Spot import Spot\n",
    "spot = Spot()"
   ]
  },
  {
   "cell_type": "code",
   "execution_count": null,
   "id": "b63ad7b0",
   "metadata": {},
   "outputs": [],
   "source": [
    "# full sequential run\n",
    "spot.exe()"
   ]
  }
 ],
 "metadata": {
  "kernelspec": {
   "display_name": "Python 3 (ipykernel)",
   "language": "python",
   "name": "python3"
  },
  "language_info": {
   "codemirror_mode": {
    "name": "ipython",
    "version": 3
   },
   "file_extension": ".py",
   "mimetype": "text/x-python",
   "name": "python",
   "nbconvert_exporter": "python",
   "pygments_lexer": "ipython3",
   "version": "3.11.6"
  }
 },
 "nbformat": 4,
 "nbformat_minor": 5
}
